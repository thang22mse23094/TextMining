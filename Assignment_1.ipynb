{
  "cells": [
    {
      "cell_type": "markdown",
      "metadata": {
        "colab_type": "text",
        "id": "view-in-github"
      },
      "source": [
        "<a href=\"https://colab.research.google.com/github/ngoan22mse23088/TextMining/blob/master/Assignment_1.ipynb\" target=\"_parent\"><img src=\"https://colab.research.google.com/assets/colab-badge.svg\" alt=\"Open In Colab\"/></a>"
      ]
    },
    {
      "cell_type": "markdown",
      "metadata": {
        "id": "FUFlybiuUN3p"
      },
      "source": [
        "# Introduction\n",
        "\n",
        "#### Name: Hà Quyết Thắng</br>\n",
        "#### Class: MSE#12HCM </br>\n",
        "#### Student Id: 22MSE23094 </br>\n",
        "#### Email: thang22mse23094@fsb.edu.vn\n",
        "\n",
        "### **Problem Statement**: </br>\n",
        "Write code that removes whitespace at the beginning and end of a string, and\n",
        "normalizes whitespace between words to be a single-space character.</br>\n",
        "- a. Do this task using split() and join().</br>\n",
        "- b. Do this task using regular expression substitutions."
      ]
    },
    {
      "cell_type": "code",
      "execution_count": null,
      "metadata": {
        "colab": {
          "base_uri": "https://localhost:8080/"
        },
        "id": "OiNSp6nhQ82I",
        "outputId": "bebe92b1-72e8-4f68-c851-53bd470f28cf"
      },
      "outputs": [
        {
          "name": "stdout",
          "output_type": "stream",
          "text": [
            "Chuỗi gốc: '   Đây là   một   ví dụ   về   khoảng trắng   '\n",
            "Chuỗi đã chuẩn hóa: 'Đây là một ví dụ về khoảng trắng'\n"
          ]
        }
      ],
      "source": [
        "# using split() and join()\n",
        "def normalize_whitespace(input_string):\n",
        "    # Loại bỏ khoảng trắng ở đầu và cuối chuỗi\n",
        "    trimmed_string = input_string.strip()\n",
        "\n",
        "    # Tách chuỗi thành list các từ\n",
        "    words = trimmed_string.split()\n",
        "\n",
        "    # Kết hợp các từ bằng ký tự khoảng trắng đơn\n",
        "    normalized_string = ' '.join(words)\n",
        "\n",
        "    return normalized_string\n",
        "\n",
        "# Ví dụ sử dụng\n",
        "input_text = \"   Đây là   một   ví dụ   về   khoảng trắng   \"\n",
        "output_text = normalize_whitespace(input_text)\n",
        "print(\"Chuỗi gốc:\", repr(input_text))\n",
        "print(\"Chuỗi đã chuẩn hóa:\", repr(output_text))"
      ]
    },
    {
      "cell_type": "code",
      "execution_count": null,
      "metadata": {
        "colab": {
          "base_uri": "https://localhost:8080/"
        },
        "id": "enXlfM5AV9pS",
        "outputId": "97d618df-b973-49f8-86ce-9d9c82d6374c"
      },
      "outputs": [
        {
          "name": "stdout",
          "output_type": "stream",
          "text": [
            "Chuỗi gốc: '   Đây là   một   ví dụ   về   khoảng trắng   '\n",
            "Chuỗi đã chuẩn hóa: 'Đây là một ví dụ về khoảng trắng'\n"
          ]
        }
      ],
      "source": [
        "# using regular expression substitutions\n",
        "import re\n",
        "\n",
        "def normalize_whitespace_with_regex(input_string):\n",
        "    # Loại bỏ khoảng trắng ở đầu và cuối chuỗi\n",
        "    trimmed_string = re.sub(r'^\\s+|\\s+$', '', input_string)\n",
        "\n",
        "    # Chuẩn hóa khoảng trắng giữa các từ thành ký tự khoảng trắng đơn\n",
        "    normalized_string = re.sub(r'\\s+', ' ', trimmed_string)\n",
        "\n",
        "    return normalized_string\n",
        "\n",
        "# Ví dụ sử dụng\n",
        "input_text = \"   Đây là   một   ví dụ   về   khoảng trắng   \"\n",
        "output_text = normalize_whitespace_with_regex(input_text)\n",
        "print(\"Chuỗi gốc:\", repr(input_text))\n",
        "print(\"Chuỗi đã chuẩn hóa:\", repr(output_text))"
      ]
    },
    {
      "cell_type": "markdown",
      "metadata": {
        "id": "NGHvFSSiAA_b"
      },
      "source": [
        "- Kết luận: Trong đoạn mã đã được viết để xử lý chuỗi, mục tiêu là loại bỏ khoảng trắng ở đầu và cuối chuỗi, đồng thời chuẩn hóa khoảng trắng giữa các từ thành một ký tự khoảng trắng đơn.\n",
        "> - a. Sử dụng split() và join(): Đoạn mã này sử dụng cách tiếp cận truyền thống với các hàm split() và join() của Python. Việc này cho phép tách chuỗi thành danh sách các từ và sau đó kết hợp chúng lại bằng một ký tự khoảng trắng. Tuy giải pháp này có thể coi là đơn giản, nhưng nó hiệu quả và dễ hiểu.\n",
        "> - b. Sử dụng thay thế biểu thức chính quy (regular expression substitutions): Trong phần này, chúng ta sử dụng biểu thức chính quy để thực hiện nhiệm vụ. Việc này giúp chúng ta thực hiện một loạt các thay thế, bao gồm loại bỏ khoảng trắng ở đầu và cuối chuỗi cũng như chuẩn hóa khoảng trắng giữa các từ. Mặc dù có thể phức tạp hơn, nhưng giải pháp này mạnh mẽ và linh hoạt hơn khi đối mặt với các yêu cầu phức tạp hơn về xử lý chuỗi.\n",
        "\n",
        "- Tổng cộng, cả hai cách tiếp cận đều có thể thực hiện nhiệm vụ một cách hiệu quả, và lựa chọn giữa chúng có thể phụ thuộc vào ngữ cảnh cụ thể của vấn đề và yêu cầu về hiệu suất."
      ]
    }
  ],
  "metadata": {
    "colab": {
      "authorship_tag": "ABX9TyOq/9+ldeA+fMjdeWXL783z",
      "include_colab_link": true,
      "provenance": []
    },
    "kernelspec": {
      "display_name": "Python 3",
      "name": "python3"
    },
    "language_info": {
      "name": "python"
    }
  },
  "nbformat": 4,
  "nbformat_minor": 0
}
