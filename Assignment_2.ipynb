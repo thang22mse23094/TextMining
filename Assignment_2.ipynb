{
  "cells": [
    {
      "cell_type": "markdown",
      "metadata": {
        "colab_type": "text",
        "id": "view-in-github"
      },
      "source": [
        "<a href=\"https://colab.research.google.com/github/ngoan22mse23088/TextMining/blob/master/Assignment_2.ipynb\" target=\"_parent\"><img src=\"https://colab.research.google.com/assets/colab-badge.svg\" alt=\"Open In Colab\"/></a>"
      ]
    },
    {
      "cell_type": "markdown",
      "id": "n93vDN0RfgaX",
      "metadata": {
        "id": "n93vDN0RfgaX"
      },
      "source": [
        "# Introduction\n",
        "\n",
        "#### Name: Hà Quyết Thắng</br>\n",
        "#### Class: MSE#12HCM </br>\n",
        "#### Student Id: 22MSE23094 </br>\n",
        "#### Email: thang22mse23094@fsb.edu.vn\n",
        "\n",
        "### **Problem Statement**: </br>\n",
        "Using the movie review document classifier discussed in this chapter, generate\n",
        "a list of the 30 features that the classifier finds to be most informative.\n",
        "</br>\n",
        "Can you explain why these particular features are informative ?</br>\n",
        "Do you find any of them surprising ?"
      ]
    },
    {
      "cell_type": "markdown",
      "id": "672aed5236bd8d50",
      "metadata": {
        "collapsed": false,
        "id": "672aed5236bd8d50"
      },
      "source": [
        "## Install required library"
      ]
    },
    {
      "cell_type": "code",
      "execution_count": null,
      "id": "d22337f7d82c9d14",
      "metadata": {
        "ExecuteTime": {
          "end_time": "2023-12-24T09:00:37.266487800Z",
          "start_time": "2023-12-24T09:00:19.180619400Z"
        },
        "colab": {
          "base_uri": "https://localhost:8080/"
        },
        "id": "d22337f7d82c9d14",
        "outputId": "97339e11-9d6e-494e-bbf1-cb235d81e984"
      },
      "outputs": [
        {
          "name": "stdout",
          "output_type": "stream",
          "text": [
            "Requirement already satisfied: nltk in /usr/local/lib/python3.10/dist-packages (3.8.1)\n",
            "Requirement already satisfied: click in /usr/local/lib/python3.10/dist-packages (from nltk) (8.1.7)\n",
            "Requirement already satisfied: joblib in /usr/local/lib/python3.10/dist-packages (from nltk) (1.3.2)\n",
            "Requirement already satisfied: regex>=2021.8.3 in /usr/local/lib/python3.10/dist-packages (from nltk) (2023.6.3)\n",
            "Requirement already satisfied: tqdm in /usr/local/lib/python3.10/dist-packages (from nltk) (4.66.1)\n",
            "Requirement already satisfied: pandas in /usr/local/lib/python3.10/dist-packages (1.5.3)\n",
            "Requirement already satisfied: python-dateutil>=2.8.1 in /usr/local/lib/python3.10/dist-packages (from pandas) (2.8.2)\n",
            "Requirement already satisfied: pytz>=2020.1 in /usr/local/lib/python3.10/dist-packages (from pandas) (2023.3.post1)\n",
            "Requirement already satisfied: numpy>=1.21.0 in /usr/local/lib/python3.10/dist-packages (from pandas) (1.23.5)\n",
            "Requirement already satisfied: six>=1.5 in /usr/local/lib/python3.10/dist-packages (from python-dateutil>=2.8.1->pandas) (1.16.0)\n",
            "Requirement already satisfied: scikit-learn in /usr/local/lib/python3.10/dist-packages (1.2.2)\n",
            "Requirement already satisfied: numpy>=1.17.3 in /usr/local/lib/python3.10/dist-packages (from scikit-learn) (1.23.5)\n",
            "Requirement already satisfied: scipy>=1.3.2 in /usr/local/lib/python3.10/dist-packages (from scikit-learn) (1.11.4)\n",
            "Requirement already satisfied: joblib>=1.1.1 in /usr/local/lib/python3.10/dist-packages (from scikit-learn) (1.3.2)\n",
            "Requirement already satisfied: threadpoolctl>=2.0.0 in /usr/local/lib/python3.10/dist-packages (from scikit-learn) (3.2.0)\n"
          ]
        }
      ],
      "source": [
        "!pip install nltk\n",
        "!pip install pandas\n",
        "!pip install scikit-learn"
      ]
    },
    {
      "cell_type": "markdown",
      "id": "85bfd2761c789dcc",
      "metadata": {
        "collapsed": false,
        "id": "85bfd2761c789dcc"
      },
      "source": [
        "## Import library and move_reviews dataset"
      ]
    },
    {
      "cell_type": "code",
      "execution_count": null,
      "id": "initial_id",
      "metadata": {
        "ExecuteTime": {
          "end_time": "2023-12-24T09:01:20.714906400Z",
          "start_time": "2023-12-24T09:01:20.709921Z"
        },
        "collapsed": true,
        "id": "initial_id"
      },
      "outputs": [],
      "source": [
        "import nltk\n",
        "from nltk.corpus import movie_reviews\n",
        "import pandas as pd\n",
        "import sklearn as sk\n",
        "import random"
      ]
    },
    {
      "cell_type": "markdown",
      "id": "510713c67ad736f9",
      "metadata": {
        "collapsed": false,
        "id": "510713c67ad736f9"
      },
      "source": [
        "## A list of the 30 features that the classifier finds to be most informative"
      ]
    },
    {
      "cell_type": "code",
      "execution_count": null,
      "id": "fd6dc57cc333e6cd",
      "metadata": {
        "ExecuteTime": {
          "end_time": "2023-12-24T09:10:58.704745200Z",
          "start_time": "2023-12-24T09:10:56.458106Z"
        },
        "colab": {
          "base_uri": "https://localhost:8080/"
        },
        "id": "fd6dc57cc333e6cd",
        "outputId": "f447dba9-6017-4cf7-ef7f-1bbef5c3afda"
      },
      "outputs": [
        {
          "name": "stdout",
          "output_type": "stream",
          "text": [
            "['plot', ':', 'two', 'teen', 'couples', 'go', 'to', 'a', 'church', 'party', ',', 'drink', 'and', 'then', 'drive']\n"
          ]
        }
      ],
      "source": [
        "# Nhận tất cả các từ từ đánh giá phim\n",
        "words = movie_reviews.words()\n",
        "\n",
        "# Tạo phân bố tần suất của các từ viết thường\n",
        "all_words = nltk.FreqDist(w.lower() for w in words)\n",
        "\n",
        "# Lấy top 1000 từ thường xuyên nhất\n",
        "word_features = list(all_words.keys())[:1000]\n",
        "\n",
        "# Ví dụ về 15 từ đầu tiên trong danh sách\n",
        "print(word_features[:15])"
      ]
    },
    {
      "cell_type": "code",
      "execution_count": null,
      "id": "86ac17884c7bb50",
      "metadata": {
        "ExecuteTime": {
          "end_time": "2023-12-24T09:11:23.877348500Z",
          "start_time": "2023-12-24T09:11:23.186631300Z"
        },
        "colab": {
          "base_uri": "https://localhost:8080/"
        },
        "id": "86ac17884c7bb50",
        "outputId": "cc171e68-792d-49a8-c942-ed10bd267891"
      },
      "outputs": [
        {
          "name": "stdout",
          "output_type": "stream",
          "text": [
            "Most Informative Features\n",
            "        contains(turkey) = True              neg : pos    =      6.5 : 1.0\n",
            "         contains(kudos) = True              pos : neg    =      5.9 : 1.0\n",
            "        contains(wasted) = True              neg : pos    =      5.6 : 1.0\n",
            "         contains(awful) = True              neg : pos    =      5.4 : 1.0\n",
            "        contains(poorly) = True              neg : pos    =      4.9 : 1.0\n",
            "       contains(bronson) = True              neg : pos    =      4.8 : 1.0\n",
            "         contains(bland) = True              neg : pos    =      4.2 : 1.0\n",
            "      contains(thrilled) = True              pos : neg    =      4.1 : 1.0\n",
            "       contains(runtime) = True              neg : pos    =      4.1 : 1.0\n",
            "     contains(underwood) = True              neg : pos    =      4.1 : 1.0\n",
            "     contains(stretched) = True              neg : pos    =      4.0 : 1.0\n",
            "     contains(anastasia) = True              pos : neg    =      3.9 : 1.0\n",
            "          contains(dull) = True              neg : pos    =      3.8 : 1.0\n",
            "       contains(jumbled) = True              neg : pos    =      3.8 : 1.0\n",
            "        contains(sexist) = True              neg : pos    =      3.8 : 1.0\n",
            "          contains(mess) = True              neg : pos    =      3.6 : 1.0\n",
            "     contains(considers) = True              pos : neg    =      3.5 : 1.0\n",
            "        contains(robots) = True              pos : neg    =      3.5 : 1.0\n",
            "     contains(memorable) = True              pos : neg    =      3.4 : 1.0\n",
            "        contains(stable) = True              pos : neg    =      3.4 : 1.0\n",
            "        contains(brooke) = True              neg : pos    =      3.3 : 1.0\n",
            "      contains(reformed) = True              neg : pos    =      3.3 : 1.0\n",
            "          contains(skip) = True              neg : pos    =      3.3 : 1.0\n",
            "       contains(implied) = True              pos : neg    =      3.3 : 1.0\n",
            "       contains(ponders) = True              pos : neg    =      3.3 : 1.0\n",
            "     contains(remembers) = True              pos : neg    =      3.3 : 1.0\n",
            "          contains(stan) = True              pos : neg    =      3.3 : 1.0\n",
            "         contains(ranks) = True              pos : neg    =      3.3 : 1.0\n",
            "   contains(potentially) = True              neg : pos    =      3.2 : 1.0\n",
            " contains(understanding) = True              pos : neg    =      3.0 : 1.0\n"
          ]
        }
      ],
      "source": [
        "# xây dựng danh sách các từ và phân loại tích cực/tiêu cực của chúng từ các bài đánh giá\n",
        "documents = [(list(movie_reviews.words(fileid)), category)\n",
        "             for category in movie_reviews.categories()\n",
        "             for fileid in movie_reviews.fileids(category)]\n",
        "\n",
        "# Tạo bộ/lớp tính năng cho mỗi bài đánh giá dựa trên danh sách 1000 từ hàng đầu\n",
        "# Trích xuất từ trong tài liệu\n",
        "def doc_features(document): # [_document-classify-extractor]\n",
        "    doc_words = set(document) # [_document-classify-set]\n",
        "    features = {}\n",
        "    for word in word_features:\n",
        "        features['contains({})'.format(word)] = (word in doc_words)\n",
        "    return features\n",
        "\n",
        "featuresets = [(doc_features(d), c) for (d,c) in documents]\n",
        "\n",
        "# Tách để tạo dữ liệu huấn luyện và kiểm tra\n",
        "train_set = featuresets[100:]\n",
        "test_set = featuresets[:100]\n",
        "\n",
        "# Huấn luyện sử dụng trình phân loại Naive Bayes\n",
        "random.seed(4321)\n",
        "classifier = nltk.NaiveBayesClassifier.train(train_set)\n",
        "\n",
        "#30 tính năng quan trọng nhất\n",
        "classifier.show_most_informative_features(30)"
      ]
    },
    {
      "cell_type": "markdown",
      "id": "a04c0471e3aaba7",
      "metadata": {
        "collapsed": false,
        "id": "a04c0471e3aaba7"
      },
      "source": [
        "## Can you explain why these particular features are informative? Do you find any of them surprising?\n",
        "#### Informative Features\n",
        "- Negative Sentiment:\n",
        "> - \"runtime,\" \"underwood\": Việc đề cập đến thời gian chạy cho thấy mối lo ngại tiềm ẩn về thời lượng phim hoặc diễn viên/đạo diễn cụ thể, trong khi \"underwood\" có thể liên quan đến ý kiến tiêu cực về diễn viên thường gắn liền với phim dở.\n",
        "> - \"sexist,\" \"mess\": Những nội dung này đề cập đến các chủ đề nhạy cảm hoặc cách kể chuyện lộn xộn, có khả năng dẫn đến phản ứng tiêu cực.\n",
        "> - \"turkey,\" \"wasted,\" \"awful,\" \"poorly\": Những điều này trực tiếp bày tỏ ý kiến ​​tiêu cực về chất lượng hoặc trải nghiệm của bộ phim.\n",
        "> - \"bronson,\" \"dull,\" \"jumbled\": Những điều này mô tả các khía cạnh cụ thể của bộ phim có thể góp phần gây ra cảm giác tiêu cực, chẳng hạn như màn trình diễn tệ, thiếu hứng thú hoặc cốt truyện khó hiểu.\n",
        "- Positive Sentiment:\n",
        "> - \"considers,\" \"remembers,\" \"ponders\": Những điều này cho thấy bộ phim gợi lên những suy nghĩ và suy ngẫm sâu sắc hơn, có khả năng dẫn đến sự tương tác tích cực.\n",
        "> - \"stable,\" \"reformed\": Những điều này có thể mô tả các cung nhân vật hoặc các yếu tố chủ đề truyền cảm hứng tích cực.\n",
        "> - \"kudos,\" \"thrilled,\" \"memorable\": Những điều này trực tiếp thể hiện sự đánh giá tích cực dành cho bộ phim.\n",
        "> - \"robots,\" \"anastasia\": Những điều này có thể chỉ ra các thể loại hoặc yếu tố cụ thể (ví dụ: khoa học viễn tưởng, hoạt hình) phù hợp với một số người xem nhất định.\n",
        "#### Surprising Features:\n",
        "> - \"brooke,\" \"stan\": Những điều này có vẻ cụ thể đối với một số diễn viên hoặc fandom nhất định, có khả năng chỉ ra những phản ứng thích hợp.\n",
        "> - \"implied,\" \"ponders\": Đây là những biểu hiện cảm xúc ít rõ ràng hơn và có thể cần phân tích sâu hơn để hiểu tác động thực sự của chúng.\n",
        "> - \"bland,\" \"stretched\": Mặc dù tiêu cực nhưng những điều này có thể mang tính chủ quan và phụ thuộc vào sở thích cá nhân về phong cách hoặc nhịp độ phim.\n",
        "-  Nhìn chung, các tính năng thông tin làm nổi bật những từ ngữ truyền đạt quan điểm mạnh mẽ hoặc gợi lên những cảm xúc cụ thể liên quan đến trải nghiệm xem phim. Một số điều ngạc nhiên xuất phát từ tính chủ quan hoặc tài liệu tham khảo thích hợp, đòi hỏi bối cảnh hoặc điều tra sâu hơn."
      ]
    }
  ],
  "metadata": {
    "colab": {
      "include_colab_link": true,
      "provenance": []
    },
    "kernelspec": {
      "display_name": "Python 3",
      "language": "python",
      "name": "python3"
    },
    "language_info": {
      "codemirror_mode": {
        "name": "ipython",
        "version": 2
      },
      "file_extension": ".py",
      "mimetype": "text/x-python",
      "name": "python",
      "nbconvert_exporter": "python",
      "pygments_lexer": "ipython2",
      "version": "2.7.6"
    }
  },
  "nbformat": 4,
  "nbformat_minor": 5
}
